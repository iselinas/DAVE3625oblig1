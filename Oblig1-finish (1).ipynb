{
 "cells": [
  {
   "cell_type": "code",
   "execution_count": 34,
   "id": "0c58db9b",
   "metadata": {},
   "outputs": [],
   "source": [
    "import pandas as pd\n",
    "import numpy as np\n",
    "from scipy import stats\n",
    "import matplotlib.pyplot as plt\n",
    "import re\n",
    "import missingno as msno"
   ]
  },
  {
   "cell_type": "code",
   "execution_count": 35,
   "id": "5c15c61a",
   "metadata": {},
   "outputs": [
    {
     "data": {
      "text/html": [
       "<div>\n",
       "<style scoped>\n",
       "    .dataframe tbody tr th:only-of-type {\n",
       "        vertical-align: middle;\n",
       "    }\n",
       "\n",
       "    .dataframe tbody tr th {\n",
       "        vertical-align: top;\n",
       "    }\n",
       "\n",
       "    .dataframe thead th {\n",
       "        text-align: right;\n",
       "    }\n",
       "</style>\n",
       "<table border=\"1\" class=\"dataframe\">\n",
       "  <thead>\n",
       "    <tr style=\"text-align: right;\">\n",
       "      <th></th>\n",
       "      <th>TurId</th>\n",
       "      <th>Dato</th>\n",
       "      <th>Fylke</th>\n",
       "      <th>Område</th>\n",
       "      <th>Kommune</th>\n",
       "      <th>Holdeplass_Fra</th>\n",
       "      <th>Holdeplass_Til</th>\n",
       "      <th>Linjetype</th>\n",
       "      <th>Linjefylke</th>\n",
       "      <th>Linjenavn</th>\n",
       "      <th>Linjeretning</th>\n",
       "      <th>Tidspunkt_Faktisk_Ankomst_Holdeplass_Fra</th>\n",
       "      <th>Tidspunkt_Faktisk_Avgang_Holdeplass_Fra</th>\n",
       "      <th>Tidspunkt_Planlagt_Ankomst_Holdeplass_Fra</th>\n",
       "      <th>Tidspunkt_Planlagt_Avgang_Holdeplass_Fra</th>\n",
       "      <th>Kjøretøy_Kapasitet</th>\n",
       "      <th>Passasjerer_Ombord</th>\n",
       "    </tr>\n",
       "  </thead>\n",
       "  <tbody>\n",
       "    <tr>\n",
       "      <th>0</th>\n",
       "      <td>15006-2020-08-10T10:24:00+02:00</td>\n",
       "      <td>10/08/2020</td>\n",
       "      <td>Viken</td>\n",
       "      <td>Vest</td>\n",
       "      <td>Bærum</td>\n",
       "      <td>Nordliveien</td>\n",
       "      <td>Tjernsmyr</td>\n",
       "      <td>Lokal</td>\n",
       "      <td>Viken</td>\n",
       "      <td>150</td>\n",
       "      <td>0</td>\n",
       "      <td>10:53:53</td>\n",
       "      <td>10:53:59</td>\n",
       "      <td>10:53:00</td>\n",
       "      <td>10:53:00</td>\n",
       "      <td>112</td>\n",
       "      <td>5</td>\n",
       "    </tr>\n",
       "    <tr>\n",
       "      <th>1</th>\n",
       "      <td>15002-2020-08-15T12:54:00+02:00</td>\n",
       "      <td>15/08/2020</td>\n",
       "      <td>Viken</td>\n",
       "      <td>Vest</td>\n",
       "      <td>Bærum</td>\n",
       "      <td>Nadderud stadion</td>\n",
       "      <td>Bekkestua bussterminal (Plattform C)</td>\n",
       "      <td>Lokal</td>\n",
       "      <td>Viken</td>\n",
       "      <td>150</td>\n",
       "      <td>0</td>\n",
       "      <td>13:12:20</td>\n",
       "      <td>13:12:26</td>\n",
       "      <td>13:12:00</td>\n",
       "      <td>13:12:00</td>\n",
       "      <td>112</td>\n",
       "      <td>5</td>\n",
       "    </tr>\n",
       "    <tr>\n",
       "      <th>2</th>\n",
       "      <td>15004-2020-08-03T09:54:00+02:00</td>\n",
       "      <td>03/08/2020</td>\n",
       "      <td>Viken</td>\n",
       "      <td>Vest</td>\n",
       "      <td>Bærum</td>\n",
       "      <td>Ringstabekkveien</td>\n",
       "      <td>Skallum</td>\n",
       "      <td>Lokal</td>\n",
       "      <td>Viken</td>\n",
       "      <td>150</td>\n",
       "      <td>0</td>\n",
       "      <td>10:18:56</td>\n",
       "      <td>10:19:21</td>\n",
       "      <td>10:19:00</td>\n",
       "      <td>10:19:00</td>\n",
       "      <td>112</td>\n",
       "      <td>6</td>\n",
       "    </tr>\n",
       "    <tr>\n",
       "      <th>3</th>\n",
       "      <td>15003-2020-07-27T13:00:00+02:00</td>\n",
       "      <td>27/07/2020</td>\n",
       "      <td>Viken</td>\n",
       "      <td>Vest</td>\n",
       "      <td>Bærum</td>\n",
       "      <td>Gruvemyra</td>\n",
       "      <td>Gullhaug</td>\n",
       "      <td>Lokal</td>\n",
       "      <td>Viken</td>\n",
       "      <td>150</td>\n",
       "      <td>1</td>\n",
       "      <td>13:52:04</td>\n",
       "      <td>13:52:26</td>\n",
       "      <td>13:51:00</td>\n",
       "      <td>13:51:00</td>\n",
       "      <td>112</td>\n",
       "      <td>10</td>\n",
       "    </tr>\n",
       "    <tr>\n",
       "      <th>4</th>\n",
       "      <td>15002-2020-08-27T07:15:00+02:00</td>\n",
       "      <td>27/08/2020</td>\n",
       "      <td>Viken</td>\n",
       "      <td>Vest</td>\n",
       "      <td>Bærum</td>\n",
       "      <td>Lysaker stasjon (Plattform A)</td>\n",
       "      <td>Tjernsmyr</td>\n",
       "      <td>Lokal</td>\n",
       "      <td>Viken</td>\n",
       "      <td>150</td>\n",
       "      <td>1</td>\n",
       "      <td>07:34:13</td>\n",
       "      <td>07:34:53</td>\n",
       "      <td>07:33:00</td>\n",
       "      <td>07:33:00</td>\n",
       "      <td>112</td>\n",
       "      <td>10</td>\n",
       "    </tr>\n",
       "    <tr>\n",
       "      <th>...</th>\n",
       "      <td>...</td>\n",
       "      <td>...</td>\n",
       "      <td>...</td>\n",
       "      <td>...</td>\n",
       "      <td>...</td>\n",
       "      <td>...</td>\n",
       "      <td>...</td>\n",
       "      <td>...</td>\n",
       "      <td>...</td>\n",
       "      <td>...</td>\n",
       "      <td>...</td>\n",
       "      <td>...</td>\n",
       "      <td>...</td>\n",
       "      <td>...</td>\n",
       "      <td>...</td>\n",
       "      <td>...</td>\n",
       "      <td>...</td>\n",
       "    </tr>\n",
       "    <tr>\n",
       "      <th>5995</th>\n",
       "      <td>10001-2020-06-10T15:10:00+02:00</td>\n",
       "      <td>10/06/2020</td>\n",
       "      <td>Viken</td>\n",
       "      <td>Nordøst</td>\n",
       "      <td>Lillestrøm</td>\n",
       "      <td>Brauterkrysset</td>\n",
       "      <td>Nordsnoveien</td>\n",
       "      <td>Lokal</td>\n",
       "      <td>Viken</td>\n",
       "      <td>100</td>\n",
       "      <td>1</td>\n",
       "      <td>16:23:18</td>\n",
       "      <td>16:23:48</td>\n",
       "      <td>16:10:00</td>\n",
       "      <td>16:10:00</td>\n",
       "      <td>151</td>\n",
       "      <td>2</td>\n",
       "    </tr>\n",
       "    <tr>\n",
       "      <th>5996</th>\n",
       "      <td>10010-2020-06-23T05:54:00+02:00</td>\n",
       "      <td>23/06/2020</td>\n",
       "      <td>Viken</td>\n",
       "      <td>Nordøst</td>\n",
       "      <td>Lillestrøm</td>\n",
       "      <td>Vestbygata</td>\n",
       "      <td>Bjørnsons gate</td>\n",
       "      <td>Lokal</td>\n",
       "      <td>Viken</td>\n",
       "      <td>100</td>\n",
       "      <td>0</td>\n",
       "      <td>06:00:32</td>\n",
       "      <td>06:00:40</td>\n",
       "      <td>05:59:00</td>\n",
       "      <td>05:59:00</td>\n",
       "      <td>151</td>\n",
       "      <td>2</td>\n",
       "    </tr>\n",
       "    <tr>\n",
       "      <th>5997</th>\n",
       "      <td>2007-2020-06-11T17:22:00+02:00</td>\n",
       "      <td>11/06/2020</td>\n",
       "      <td>Oslo</td>\n",
       "      <td>Indre By</td>\n",
       "      <td>Sagene</td>\n",
       "      <td>Torshovparken  (mot Torshovparken)</td>\n",
       "      <td>Torshov  (mot Bentsebrua)</td>\n",
       "      <td>Lokal</td>\n",
       "      <td>Oslo</td>\n",
       "      <td>20</td>\n",
       "      <td>1</td>\n",
       "      <td>17:42:43</td>\n",
       "      <td>17:43:10</td>\n",
       "      <td>17:32:00</td>\n",
       "      <td>17:32:00</td>\n",
       "      <td>106</td>\n",
       "      <td>3</td>\n",
       "    </tr>\n",
       "    <tr>\n",
       "      <th>5998</th>\n",
       "      <td>10004-2020-08-13T04:59:00+02:00</td>\n",
       "      <td>13/08/2020</td>\n",
       "      <td>Oslo</td>\n",
       "      <td>Indre By</td>\n",
       "      <td>Gamle Oslo</td>\n",
       "      <td>Harald Hårdrådes plass  (mot Grønland)</td>\n",
       "      <td>Oslo gate  (mot Grønland)</td>\n",
       "      <td>Lokal</td>\n",
       "      <td>Viken</td>\n",
       "      <td>100</td>\n",
       "      <td>0</td>\n",
       "      <td>06:00:11</td>\n",
       "      <td>06:00:23</td>\n",
       "      <td>05:59:00</td>\n",
       "      <td>05:59:00</td>\n",
       "      <td>151</td>\n",
       "      <td>5</td>\n",
       "    </tr>\n",
       "    <tr>\n",
       "      <th>5999</th>\n",
       "      <td>34013-2020-08-05T13:31:00+02:00</td>\n",
       "      <td>05/08/2020</td>\n",
       "      <td>Viken</td>\n",
       "      <td>Nordøst</td>\n",
       "      <td>Lillestrøm</td>\n",
       "      <td>Tandberg</td>\n",
       "      <td>Selmer</td>\n",
       "      <td>Lokal</td>\n",
       "      <td>Viken</td>\n",
       "      <td>340</td>\n",
       "      <td>1</td>\n",
       "      <td>13:52:44</td>\n",
       "      <td>13:52:48</td>\n",
       "      <td>13:50:00</td>\n",
       "      <td>13:50:00</td>\n",
       "      <td>105</td>\n",
       "      <td>-5</td>\n",
       "    </tr>\n",
       "  </tbody>\n",
       "</table>\n",
       "<p>6000 rows × 17 columns</p>\n",
       "</div>"
      ],
      "text/plain": [
       "                                TurId        Dato  Fylke    Område  \\\n",
       "0     15006-2020-08-10T10:24:00+02:00  10/08/2020  Viken      Vest   \n",
       "1     15002-2020-08-15T12:54:00+02:00  15/08/2020  Viken      Vest   \n",
       "2     15004-2020-08-03T09:54:00+02:00  03/08/2020  Viken      Vest   \n",
       "3     15003-2020-07-27T13:00:00+02:00  27/07/2020  Viken      Vest   \n",
       "4     15002-2020-08-27T07:15:00+02:00  27/08/2020  Viken      Vest   \n",
       "...                               ...         ...    ...       ...   \n",
       "5995  10001-2020-06-10T15:10:00+02:00  10/06/2020  Viken   Nordøst   \n",
       "5996  10010-2020-06-23T05:54:00+02:00  23/06/2020  Viken   Nordøst   \n",
       "5997   2007-2020-06-11T17:22:00+02:00  11/06/2020   Oslo  Indre By   \n",
       "5998  10004-2020-08-13T04:59:00+02:00  13/08/2020   Oslo  Indre By   \n",
       "5999  34013-2020-08-05T13:31:00+02:00  05/08/2020  Viken   Nordøst   \n",
       "\n",
       "         Kommune                          Holdeplass_Fra  \\\n",
       "0          Bærum                             Nordliveien   \n",
       "1          Bærum                        Nadderud stadion   \n",
       "2          Bærum                        Ringstabekkveien   \n",
       "3          Bærum                               Gruvemyra   \n",
       "4          Bærum           Lysaker stasjon (Plattform A)   \n",
       "...          ...                                     ...   \n",
       "5995  Lillestrøm                          Brauterkrysset   \n",
       "5996  Lillestrøm                              Vestbygata   \n",
       "5997      Sagene      Torshovparken  (mot Torshovparken)   \n",
       "5998  Gamle Oslo  Harald Hårdrådes plass  (mot Grønland)   \n",
       "5999  Lillestrøm                                Tandberg   \n",
       "\n",
       "                            Holdeplass_Til Linjetype Linjefylke Linjenavn  \\\n",
       "0                                Tjernsmyr     Lokal      Viken       150   \n",
       "1     Bekkestua bussterminal (Plattform C)     Lokal      Viken       150   \n",
       "2                                  Skallum     Lokal      Viken       150   \n",
       "3                                 Gullhaug     Lokal      Viken       150   \n",
       "4                                Tjernsmyr     Lokal      Viken       150   \n",
       "...                                    ...       ...        ...       ...   \n",
       "5995                          Nordsnoveien     Lokal      Viken       100   \n",
       "5996                        Bjørnsons gate     Lokal      Viken       100   \n",
       "5997             Torshov  (mot Bentsebrua)     Lokal       Oslo        20   \n",
       "5998             Oslo gate  (mot Grønland)     Lokal      Viken       100   \n",
       "5999                                Selmer     Lokal      Viken       340   \n",
       "\n",
       "      Linjeretning Tidspunkt_Faktisk_Ankomst_Holdeplass_Fra  \\\n",
       "0                0                                 10:53:53   \n",
       "1                0                                 13:12:20   \n",
       "2                0                                 10:18:56   \n",
       "3                1                                 13:52:04   \n",
       "4                1                                 07:34:13   \n",
       "...            ...                                      ...   \n",
       "5995             1                                 16:23:18   \n",
       "5996             0                                 06:00:32   \n",
       "5997             1                                 17:42:43   \n",
       "5998             0                                 06:00:11   \n",
       "5999             1                                 13:52:44   \n",
       "\n",
       "     Tidspunkt_Faktisk_Avgang_Holdeplass_Fra  \\\n",
       "0                                   10:53:59   \n",
       "1                                   13:12:26   \n",
       "2                                   10:19:21   \n",
       "3                                   13:52:26   \n",
       "4                                   07:34:53   \n",
       "...                                      ...   \n",
       "5995                                16:23:48   \n",
       "5996                                06:00:40   \n",
       "5997                                17:43:10   \n",
       "5998                                06:00:23   \n",
       "5999                                13:52:48   \n",
       "\n",
       "     Tidspunkt_Planlagt_Ankomst_Holdeplass_Fra  \\\n",
       "0                                     10:53:00   \n",
       "1                                     13:12:00   \n",
       "2                                     10:19:00   \n",
       "3                                     13:51:00   \n",
       "4                                     07:33:00   \n",
       "...                                        ...   \n",
       "5995                                  16:10:00   \n",
       "5996                                  05:59:00   \n",
       "5997                                  17:32:00   \n",
       "5998                                  05:59:00   \n",
       "5999                                  13:50:00   \n",
       "\n",
       "     Tidspunkt_Planlagt_Avgang_Holdeplass_Fra  Kjøretøy_Kapasitet  \\\n",
       "0                                    10:53:00                 112   \n",
       "1                                    13:12:00                 112   \n",
       "2                                    10:19:00                 112   \n",
       "3                                    13:51:00                 112   \n",
       "4                                    07:33:00                 112   \n",
       "...                                       ...                 ...   \n",
       "5995                                 16:10:00                 151   \n",
       "5996                                 05:59:00                 151   \n",
       "5997                                 17:32:00                 106   \n",
       "5998                                 05:59:00                 151   \n",
       "5999                                 13:50:00                 105   \n",
       "\n",
       "      Passasjerer_Ombord  \n",
       "0                      5  \n",
       "1                      5  \n",
       "2                      6  \n",
       "3                     10  \n",
       "4                     10  \n",
       "...                  ...  \n",
       "5995                   2  \n",
       "5996                   2  \n",
       "5997                   3  \n",
       "5998                   5  \n",
       "5999                  -5  \n",
       "\n",
       "[6000 rows x 17 columns]"
      ]
     },
     "execution_count": 35,
     "metadata": {},
     "output_type": "execute_result"
    }
   ],
   "source": [
    "url = 'https://raw.githubusercontent.com/umaimehm/Intro_to_AI_2021/main/assignment1/Ruter_data.csv'\n",
    "df = pd.read_csv(url, delimiter=';')\n",
    "\n",
    "df"
   ]
  },
  {
   "cell_type": "markdown",
   "id": "29be00b3",
   "metadata": {},
   "source": [
    "#### Sjekker typen til hver av kolonnene. Her kommer de fleste kolonnene opp som object. For å sjekke hver enkelt kolonne må vi bruke iloc, dette gjør vi etter at vi dropper kolonner, slik at det ikke må gjøres på så mange"
   ]
  },
  {
   "cell_type": "code",
   "execution_count": 36,
   "id": "0d7ffe73",
   "metadata": {},
   "outputs": [
    {
     "name": "stdout",
     "output_type": "stream",
     "text": [
      "<class 'pandas.core.frame.DataFrame'>\n",
      "RangeIndex: 6000 entries, 0 to 5999\n",
      "Data columns (total 17 columns):\n",
      " #   Column                                     Non-Null Count  Dtype \n",
      "---  ------                                     --------------  ----- \n",
      " 0   TurId                                      6000 non-null   object\n",
      " 1   Dato                                       6000 non-null   object\n",
      " 2   Fylke                                      6000 non-null   object\n",
      " 3   Område                                     6000 non-null   object\n",
      " 4   Kommune                                    6000 non-null   object\n",
      " 5   Holdeplass_Fra                             6000 non-null   object\n",
      " 6   Holdeplass_Til                             6000 non-null   object\n",
      " 7   Linjetype                                  6000 non-null   object\n",
      " 8   Linjefylke                                 6000 non-null   object\n",
      " 9   Linjenavn                                  6000 non-null   object\n",
      " 10  Linjeretning                               6000 non-null   int64 \n",
      " 11  Tidspunkt_Faktisk_Ankomst_Holdeplass_Fra   6000 non-null   object\n",
      " 12  Tidspunkt_Faktisk_Avgang_Holdeplass_Fra    6000 non-null   object\n",
      " 13  Tidspunkt_Planlagt_Ankomst_Holdeplass_Fra  6000 non-null   object\n",
      " 14  Tidspunkt_Planlagt_Avgang_Holdeplass_Fra   6000 non-null   object\n",
      " 15  Kjøretøy_Kapasitet                         6000 non-null   int64 \n",
      " 16  Passasjerer_Ombord                         6000 non-null   int64 \n",
      "dtypes: int64(3), object(14)\n",
      "memory usage: 797.0+ KB\n"
     ]
    }
   ],
   "source": [
    "df.info()"
   ]
  },
  {
   "cell_type": "markdown",
   "id": "6b4cd035",
   "metadata": {},
   "source": [
    "#### Sjekker min/max verdier (outliers) for å se om det er noe som må ryddes opp i. Rart at det er -39 på antall passasjerer"
   ]
  },
  {
   "cell_type": "code",
   "execution_count": 37,
   "id": "a208a2fa",
   "metadata": {},
   "outputs": [
    {
     "data": {
      "text/html": [
       "<div>\n",
       "<style scoped>\n",
       "    .dataframe tbody tr th:only-of-type {\n",
       "        vertical-align: middle;\n",
       "    }\n",
       "\n",
       "    .dataframe tbody tr th {\n",
       "        vertical-align: top;\n",
       "    }\n",
       "\n",
       "    .dataframe thead th {\n",
       "        text-align: right;\n",
       "    }\n",
       "</style>\n",
       "<table border=\"1\" class=\"dataframe\">\n",
       "  <thead>\n",
       "    <tr style=\"text-align: right;\">\n",
       "      <th></th>\n",
       "      <th>Linjeretning</th>\n",
       "      <th>Kjøretøy_Kapasitet</th>\n",
       "      <th>Passasjerer_Ombord</th>\n",
       "    </tr>\n",
       "  </thead>\n",
       "  <tbody>\n",
       "    <tr>\n",
       "      <th>count</th>\n",
       "      <td>6000.000000</td>\n",
       "      <td>6000.000000</td>\n",
       "      <td>6000.000000</td>\n",
       "    </tr>\n",
       "    <tr>\n",
       "      <th>mean</th>\n",
       "      <td>0.492000</td>\n",
       "      <td>104.712167</td>\n",
       "      <td>4.512833</td>\n",
       "    </tr>\n",
       "    <tr>\n",
       "      <th>std</th>\n",
       "      <td>0.499978</td>\n",
       "      <td>24.225196</td>\n",
       "      <td>6.735730</td>\n",
       "    </tr>\n",
       "    <tr>\n",
       "      <th>min</th>\n",
       "      <td>0.000000</td>\n",
       "      <td>33.000000</td>\n",
       "      <td>-39.000000</td>\n",
       "    </tr>\n",
       "    <tr>\n",
       "      <th>25%</th>\n",
       "      <td>0.000000</td>\n",
       "      <td>80.000000</td>\n",
       "      <td>0.000000</td>\n",
       "    </tr>\n",
       "    <tr>\n",
       "      <th>50%</th>\n",
       "      <td>0.000000</td>\n",
       "      <td>106.000000</td>\n",
       "      <td>3.000000</td>\n",
       "    </tr>\n",
       "    <tr>\n",
       "      <th>75%</th>\n",
       "      <td>1.000000</td>\n",
       "      <td>112.000000</td>\n",
       "      <td>7.000000</td>\n",
       "    </tr>\n",
       "    <tr>\n",
       "      <th>max</th>\n",
       "      <td>1.000000</td>\n",
       "      <td>151.000000</td>\n",
       "      <td>64.000000</td>\n",
       "    </tr>\n",
       "  </tbody>\n",
       "</table>\n",
       "</div>"
      ],
      "text/plain": [
       "       Linjeretning  Kjøretøy_Kapasitet  Passasjerer_Ombord\n",
       "count   6000.000000         6000.000000         6000.000000\n",
       "mean       0.492000          104.712167            4.512833\n",
       "std        0.499978           24.225196            6.735730\n",
       "min        0.000000           33.000000          -39.000000\n",
       "25%        0.000000           80.000000            0.000000\n",
       "50%        0.000000          106.000000            3.000000\n",
       "75%        1.000000          112.000000            7.000000\n",
       "max        1.000000          151.000000           64.000000"
      ]
     },
     "execution_count": 37,
     "metadata": {},
     "output_type": "execute_result"
    }
   ],
   "source": [
    "df.describe()"
   ]
  },
  {
   "cell_type": "markdown",
   "id": "df2ef6ce",
   "metadata": {},
   "source": [
    "#### Sjekker om noen rader inneholder tomme felter. Dobbeltsjekker, fordi det er rart at ingen rader inneholder tomme felter"
   ]
  },
  {
   "cell_type": "code",
   "execution_count": 38,
   "id": "b37d998c",
   "metadata": {},
   "outputs": [
    {
     "data": {
      "text/plain": [
       "TurId                                        0\n",
       "Dato                                         0\n",
       "Fylke                                        0\n",
       "Område                                       0\n",
       "Kommune                                      0\n",
       "Holdeplass_Fra                               0\n",
       "Holdeplass_Til                               0\n",
       "Linjetype                                    0\n",
       "Linjefylke                                   0\n",
       "Linjenavn                                    0\n",
       "Linjeretning                                 0\n",
       "Tidspunkt_Faktisk_Ankomst_Holdeplass_Fra     0\n",
       "Tidspunkt_Faktisk_Avgang_Holdeplass_Fra      0\n",
       "Tidspunkt_Planlagt_Ankomst_Holdeplass_Fra    0\n",
       "Tidspunkt_Planlagt_Avgang_Holdeplass_Fra     0\n",
       "Kjøretøy_Kapasitet                           0\n",
       "Passasjerer_Ombord                           0\n",
       "dtype: int64"
      ]
     },
     "execution_count": 38,
     "metadata": {},
     "output_type": "execute_result"
    }
   ],
   "source": [
    "df=df.replace(r'^\\s*$', np.nan, regex=True)\n",
    "df.isna().sum()"
   ]
  },
  {
   "cell_type": "markdown",
   "id": "1eb42231",
   "metadata": {},
   "source": [
    "#### Finner ut hvor mange felter som står som minus-verdier på passasjerer"
   ]
  },
  {
   "cell_type": "code",
   "execution_count": 39,
   "id": "3ca7cc59",
   "metadata": {},
   "outputs": [
    {
     "data": {
      "text/plain": [
       "667"
      ]
     },
     "execution_count": 39,
     "metadata": {},
     "output_type": "execute_result"
    }
   ],
   "source": [
    "sum(df[\"Passasjerer_Ombord\"]<0)"
   ]
  },
  {
   "cell_type": "markdown",
   "id": "0073b410",
   "metadata": {},
   "source": [
    "#### Dropper radene med minus-verdier på passasjerer"
   ]
  },
  {
   "cell_type": "code",
   "execution_count": 40,
   "id": "977c6cf1",
   "metadata": {},
   "outputs": [],
   "source": [
    "df_new=df[df[\"Passasjerer_Ombord\"]>0]"
   ]
  },
  {
   "cell_type": "markdown",
   "id": "cf30d423",
   "metadata": {},
   "source": [
    "#### Sjekker at det er 0 felter igjen med minus-verdier på passasjerer"
   ]
  },
  {
   "cell_type": "code",
   "execution_count": 41,
   "id": "471a20cb",
   "metadata": {},
   "outputs": [
    {
     "data": {
      "text/plain": [
       "0"
      ]
     },
     "execution_count": 41,
     "metadata": {},
     "output_type": "execute_result"
    }
   ],
   "source": [
    "sum(df_new[\"Passasjerer_Ombord\"]<0)"
   ]
  },
  {
   "cell_type": "markdown",
   "id": "c20c1803",
   "metadata": {},
   "source": [
    "#### Sjekker kolonnenavn"
   ]
  },
  {
   "cell_type": "code",
   "execution_count": 42,
   "id": "345c4c4a",
   "metadata": {},
   "outputs": [
    {
     "data": {
      "text/plain": [
       "Index(['TurId', 'Dato', 'Fylke', 'Område', 'Kommune', 'Holdeplass_Fra',\n",
       "       'Holdeplass_Til', 'Linjetype', 'Linjefylke', 'Linjenavn',\n",
       "       'Linjeretning', 'Tidspunkt_Faktisk_Ankomst_Holdeplass_Fra',\n",
       "       'Tidspunkt_Faktisk_Avgang_Holdeplass_Fra',\n",
       "       'Tidspunkt_Planlagt_Ankomst_Holdeplass_Fra',\n",
       "       'Tidspunkt_Planlagt_Avgang_Holdeplass_Fra', 'Kjøretøy_Kapasitet',\n",
       "       'Passasjerer_Ombord'],\n",
       "      dtype='object')"
      ]
     },
     "execution_count": 42,
     "metadata": {},
     "output_type": "execute_result"
    }
   ],
   "source": [
    "df.columns"
   ]
  },
  {
   "cell_type": "markdown",
   "id": "ba8dd2dc",
   "metadata": {},
   "source": [
    "#### Dropper kolonner vi ikke skal bruke i feature engineering. Noen av kolonnene vi dropper kan være unike, men inneholder ikke dataen vi ønsket å jobbe med. Siden vi skal bruke 5 kolonner i denne oppgaven dropper vi de andre. \n",
    "#### Vi tolket oppgaven slik at vi skulle manipulere data ifra 5 utvalgte unike features fra det originale datasettet. Senere har vi gjort en oppgave hver med disse kolonnene."
   ]
  },
  {
   "cell_type": "code",
   "execution_count": 43,
   "id": "1e26c2d9",
   "metadata": {},
   "outputs": [
    {
     "data": {
      "text/html": [
       "<div>\n",
       "<style scoped>\n",
       "    .dataframe tbody tr th:only-of-type {\n",
       "        vertical-align: middle;\n",
       "    }\n",
       "\n",
       "    .dataframe tbody tr th {\n",
       "        vertical-align: top;\n",
       "    }\n",
       "\n",
       "    .dataframe thead th {\n",
       "        text-align: right;\n",
       "    }\n",
       "</style>\n",
       "<table border=\"1\" class=\"dataframe\">\n",
       "  <thead>\n",
       "    <tr style=\"text-align: right;\">\n",
       "      <th></th>\n",
       "      <th>Dato</th>\n",
       "      <th>Kommune</th>\n",
       "      <th>Linjenavn</th>\n",
       "      <th>Kjøretøy_Kapasitet</th>\n",
       "      <th>Passasjerer_Ombord</th>\n",
       "    </tr>\n",
       "  </thead>\n",
       "  <tbody>\n",
       "    <tr>\n",
       "      <th>0</th>\n",
       "      <td>10/08/2020</td>\n",
       "      <td>Bærum</td>\n",
       "      <td>150</td>\n",
       "      <td>112</td>\n",
       "      <td>5</td>\n",
       "    </tr>\n",
       "    <tr>\n",
       "      <th>1</th>\n",
       "      <td>15/08/2020</td>\n",
       "      <td>Bærum</td>\n",
       "      <td>150</td>\n",
       "      <td>112</td>\n",
       "      <td>5</td>\n",
       "    </tr>\n",
       "    <tr>\n",
       "      <th>2</th>\n",
       "      <td>03/08/2020</td>\n",
       "      <td>Bærum</td>\n",
       "      <td>150</td>\n",
       "      <td>112</td>\n",
       "      <td>6</td>\n",
       "    </tr>\n",
       "    <tr>\n",
       "      <th>3</th>\n",
       "      <td>27/07/2020</td>\n",
       "      <td>Bærum</td>\n",
       "      <td>150</td>\n",
       "      <td>112</td>\n",
       "      <td>10</td>\n",
       "    </tr>\n",
       "    <tr>\n",
       "      <th>4</th>\n",
       "      <td>27/08/2020</td>\n",
       "      <td>Bærum</td>\n",
       "      <td>150</td>\n",
       "      <td>112</td>\n",
       "      <td>10</td>\n",
       "    </tr>\n",
       "  </tbody>\n",
       "</table>\n",
       "</div>"
      ],
      "text/plain": [
       "         Dato Kommune Linjenavn  Kjøretøy_Kapasitet  Passasjerer_Ombord\n",
       "0  10/08/2020   Bærum       150                 112                   5\n",
       "1  15/08/2020   Bærum       150                 112                   5\n",
       "2  03/08/2020   Bærum       150                 112                   6\n",
       "3  27/07/2020   Bærum       150                 112                  10\n",
       "4  27/08/2020   Bærum       150                 112                  10"
      ]
     },
     "execution_count": 43,
     "metadata": {},
     "output_type": "execute_result"
    }
   ],
   "source": [
    "df_new = df_new.drop(columns=[\"TurId\", \"Område\", \"Fylke\", \"Linjefylke\", \"Linjeretning\", \"Holdeplass_Fra\", \"Holdeplass_Til\", \"Tidspunkt_Faktisk_Avgang_Holdeplass_Fra\", \"Tidspunkt_Planlagt_Avgang_Holdeplass_Fra\", \"Linjetype\", \"Tidspunkt_Faktisk_Ankomst_Holdeplass_Fra\", \"Tidspunkt_Planlagt_Ankomst_Holdeplass_Fra\"])\n",
    "df_new.head()\n"
   ]
  },
  {
   "cell_type": "markdown",
   "id": "58f31d7b",
   "metadata": {},
   "source": [
    "#### Nå har vi 5 unike kolonner for dette datasettet"
   ]
  },
  {
   "cell_type": "code",
   "execution_count": 44,
   "id": "b855c3cd",
   "metadata": {},
   "outputs": [
    {
     "name": "stdout",
     "output_type": "stream",
     "text": [
      "<class 'pandas.core.frame.DataFrame'>\n",
      "Int64Index: 4376 entries, 0 to 5998\n",
      "Data columns (total 5 columns):\n",
      " #   Column              Non-Null Count  Dtype \n",
      "---  ------              --------------  ----- \n",
      " 0   Dato                4376 non-null   object\n",
      " 1   Kommune             4376 non-null   object\n",
      " 2   Linjenavn           4376 non-null   object\n",
      " 3   Kjøretøy_Kapasitet  4376 non-null   int64 \n",
      " 4   Passasjerer_Ombord  4376 non-null   int64 \n",
      "dtypes: int64(2), object(3)\n",
      "memory usage: 205.1+ KB\n"
     ]
    }
   ],
   "source": [
    "df_new.info()"
   ]
  },
  {
   "cell_type": "markdown",
   "id": "292d045e",
   "metadata": {},
   "source": [
    "#### Nå sjekker vi hva slags typer de ulike kolonnene er med iloc, siden de kun vises som \"object\" under info"
   ]
  },
  {
   "cell_type": "code",
   "execution_count": 45,
   "id": "dfddf775",
   "metadata": {},
   "outputs": [
    {
     "name": "stdout",
     "output_type": "stream",
     "text": [
      "<class 'str'> <class 'str'> <class 'str'> <class 'numpy.int64'> <class 'numpy.int64'>\n"
     ]
    }
   ],
   "source": [
    "print(type(df_new[\"Dato\"].iloc[0]), type(df_new[\"Kommune\"].iloc[0]), type(df_new[\"Linjenavn\"].iloc[0]), type(df_new[\"Kjøretøy_Kapasitet\"].iloc[0]), type(df_new[\"Passasjerer_Ombord\"].iloc[0]))"
   ]
  },
  {
   "cell_type": "markdown",
   "id": "21b54e9c",
   "metadata": {},
   "source": [
    "#### Sjekker hvilke typer kolonnen inneholder, måte å sjekke nans hvis det ikke er nans. \n",
    "#### Sjekker ikke kommune eller passasjerer, passasjerer har vi allerede fjernet negative verdier, og kommune skal vi behandle for seg selv lenger ned\n"
   ]
  },
  {
   "cell_type": "code",
   "execution_count": 46,
   "id": "d501d67f",
   "metadata": {},
   "outputs": [
    {
     "data": {
      "text/plain": [
       "array(['10/08/2020', '15/08/2020', '03/08/2020', '27/07/2020',\n",
       "       '27/08/2020', '01/08/2020', '28/07/2020', '16/08/2020',\n",
       "       '13/08/2020', '23/06/2020', '06/08/2020', '17/07/2020',\n",
       "       '16/06/2020', '16/07/2020', '27/06/2020', '12/06/2020',\n",
       "       '03/06/2020', '25/08/2020', '30/06/2020', '11/08/2020',\n",
       "       '14/08/2020', '02/08/2020', '13/07/2020', '09/06/2020',\n",
       "       '18/06/2020', '30/07/2020', '09/08/2020', '01/07/2020',\n",
       "       '20/07/2020', '04/07/2020', '11/06/2020', '29/07/2020',\n",
       "       '03/07/2020', '08/07/2020', '14/06/2020', '14/07/2020',\n",
       "       '26/06/2020', '18/08/2020', '13/06/2020', '20/06/2020',\n",
       "       '09/07/2020', '08/08/2020', '29/06/2020', '05/08/2020',\n",
       "       '28/06/2020', '15/06/2020', '04/06/2020', '23/07/2020',\n",
       "       '25/07/2020', '05/07/2020', '01/06/2020', '22/06/2020',\n",
       "       '22/07/2020', '02/06/2020', '22/08/2020', '05/06/2020',\n",
       "       '21/07/2020', '21/08/2020', '17/08/2020', '19/08/2020',\n",
       "       '28/08/2020', '31/07/2020', '02/07/2020', '30/08/2020',\n",
       "       '11/07/2020', '26/08/2020', '18/07/2020', '24/07/2020',\n",
       "       '04/08/2020', '24/06/2020', '07/07/2020', '10/06/2020',\n",
       "       '29/08/2020', '19/06/2020', '12/08/2020', '17/06/2020',\n",
       "       '20/08/2020', '21/06/2020', '08/06/2020', '07/06/2020',\n",
       "       '24/08/2020', '25/06/2020', '15/07/2020', '23/08/2020',\n",
       "       '19/07/2020', '06/06/2020', '26/07/2020', '10/07/2020',\n",
       "       '07/08/2020', '12/07/2020'], dtype=object)"
      ]
     },
     "execution_count": 46,
     "metadata": {},
     "output_type": "execute_result"
    }
   ],
   "source": [
    "df_new[\"Dato\"].unique()"
   ]
  },
  {
   "cell_type": "code",
   "execution_count": 47,
   "id": "9ff6a291",
   "metadata": {},
   "outputs": [
    {
     "data": {
      "text/plain": [
       "array(['150', '31', '490', '3772', '430', '110E', '260', '100', '310',\n",
       "       '480', '340', '60', '470', '290', '365', '410', '445', '425',\n",
       "       '400E', '315', '350', '120', '240', '440', '251', '110', '490E',\n",
       "       '441', '450', '28', '455', '41', '210', '130', '485', '140', '400',\n",
       "       '45', '150E', '395', '381', '320', '285', '390', '74', '370A',\n",
       "       '550', '385', '37', '34', '3872', '480E', '270', '46', '2135',\n",
       "       '245', '397', '3773', '230', '330', '21', '2139', '3533', '3874',\n",
       "       '215B', '54', '3834', '5N', '2733', '3839', '396', '3658', '2633',\n",
       "       '3535', '160E', '370B', '300', '345', '3684', '160', '420', '280',\n",
       "       '115E', '460', '380', '250', '360', '91', '215A', '390E', '3783',\n",
       "       '442', '250E', '256', '470E', '4B', '265', '40', '2138', '375',\n",
       "       '220', '3172', '261', '2137', '265E', '125E', '3571', '321',\n",
       "       '260E', '2N', '255E', '3638', '300E', '3575', '140E', '31E',\n",
       "       '3833', '3742', '145', '2634', '67', '405', '3737', '3071', '3643',\n",
       "       '2640', '3644', '3175', '366', '3634', '3633', '3538', '2933',\n",
       "       '3731', '451', '446', '20', '3639', '3674', '452'], dtype=object)"
      ]
     },
     "execution_count": 47,
     "metadata": {},
     "output_type": "execute_result"
    }
   ],
   "source": [
    "df_new['Linjenavn'].unique()"
   ]
  },
  {
   "cell_type": "code",
   "execution_count": 48,
   "id": "a6e3c860",
   "metadata": {},
   "outputs": [
    {
     "data": {
      "text/plain": [
       "array([112, 151, 106,  71, 115,  72, 105,  33,  77,  80,  75,  76,  69,\n",
       "       130,  47,  70, 103, 102], dtype=int64)"
      ]
     },
     "execution_count": 48,
     "metadata": {},
     "output_type": "execute_result"
    }
   ],
   "source": [
    "df_new['Kjøretøy_Kapasitet'].unique()"
   ]
  },
  {
   "cell_type": "markdown",
   "id": "5096e8ec",
   "metadata": {},
   "source": [
    "#### Sjekker antall rader, burde være færre enn vi startet med siden vi har droppet alle med negative verdier"
   ]
  },
  {
   "cell_type": "code",
   "execution_count": 49,
   "id": "f2d7bbee",
   "metadata": {},
   "outputs": [
    {
     "data": {
      "text/html": [
       "<div>\n",
       "<style scoped>\n",
       "    .dataframe tbody tr th:only-of-type {\n",
       "        vertical-align: middle;\n",
       "    }\n",
       "\n",
       "    .dataframe tbody tr th {\n",
       "        vertical-align: top;\n",
       "    }\n",
       "\n",
       "    .dataframe thead th {\n",
       "        text-align: right;\n",
       "    }\n",
       "</style>\n",
       "<table border=\"1\" class=\"dataframe\">\n",
       "  <thead>\n",
       "    <tr style=\"text-align: right;\">\n",
       "      <th></th>\n",
       "      <th>Dato</th>\n",
       "      <th>Kommune</th>\n",
       "      <th>Linjenavn</th>\n",
       "      <th>Kjøretøy_Kapasitet</th>\n",
       "      <th>Passasjerer_Ombord</th>\n",
       "    </tr>\n",
       "  </thead>\n",
       "  <tbody>\n",
       "    <tr>\n",
       "      <th>5993</th>\n",
       "      <td>30/08/2020</td>\n",
       "      <td>Alna</td>\n",
       "      <td>100</td>\n",
       "      <td>151</td>\n",
       "      <td>5</td>\n",
       "    </tr>\n",
       "    <tr>\n",
       "      <th>5995</th>\n",
       "      <td>10/06/2020</td>\n",
       "      <td>Lillestrøm</td>\n",
       "      <td>100</td>\n",
       "      <td>151</td>\n",
       "      <td>2</td>\n",
       "    </tr>\n",
       "    <tr>\n",
       "      <th>5996</th>\n",
       "      <td>23/06/2020</td>\n",
       "      <td>Lillestrøm</td>\n",
       "      <td>100</td>\n",
       "      <td>151</td>\n",
       "      <td>2</td>\n",
       "    </tr>\n",
       "    <tr>\n",
       "      <th>5997</th>\n",
       "      <td>11/06/2020</td>\n",
       "      <td>Sagene</td>\n",
       "      <td>20</td>\n",
       "      <td>106</td>\n",
       "      <td>3</td>\n",
       "    </tr>\n",
       "    <tr>\n",
       "      <th>5998</th>\n",
       "      <td>13/08/2020</td>\n",
       "      <td>Gamle Oslo</td>\n",
       "      <td>100</td>\n",
       "      <td>151</td>\n",
       "      <td>5</td>\n",
       "    </tr>\n",
       "  </tbody>\n",
       "</table>\n",
       "</div>"
      ],
      "text/plain": [
       "            Dato     Kommune Linjenavn  Kjøretøy_Kapasitet  Passasjerer_Ombord\n",
       "5993  30/08/2020        Alna       100                 151                   5\n",
       "5995  10/06/2020  Lillestrøm       100                 151                   2\n",
       "5996  23/06/2020  Lillestrøm       100                 151                   2\n",
       "5997  11/06/2020      Sagene        20                 106                   3\n",
       "5998  13/08/2020  Gamle Oslo       100                 151                   5"
      ]
     },
     "execution_count": 49,
     "metadata": {},
     "output_type": "execute_result"
    }
   ],
   "source": [
    "df_new.tail(5)\n",
    "#Kan også bruke len(df_new)"
   ]
  },
  {
   "cell_type": "markdown",
   "id": "dd22bc78",
   "metadata": {},
   "source": [
    "#### Resetter indexen slik at totalt antall rader er riktig"
   ]
  },
  {
   "cell_type": "code",
   "execution_count": 50,
   "id": "c4b31256",
   "metadata": {},
   "outputs": [
    {
     "data": {
      "text/html": [
       "<div>\n",
       "<style scoped>\n",
       "    .dataframe tbody tr th:only-of-type {\n",
       "        vertical-align: middle;\n",
       "    }\n",
       "\n",
       "    .dataframe tbody tr th {\n",
       "        vertical-align: top;\n",
       "    }\n",
       "\n",
       "    .dataframe thead th {\n",
       "        text-align: right;\n",
       "    }\n",
       "</style>\n",
       "<table border=\"1\" class=\"dataframe\">\n",
       "  <thead>\n",
       "    <tr style=\"text-align: right;\">\n",
       "      <th></th>\n",
       "      <th>Dato</th>\n",
       "      <th>Kommune</th>\n",
       "      <th>Linjenavn</th>\n",
       "      <th>Kjøretøy_Kapasitet</th>\n",
       "      <th>Passasjerer_Ombord</th>\n",
       "    </tr>\n",
       "  </thead>\n",
       "  <tbody>\n",
       "    <tr>\n",
       "      <th>4371</th>\n",
       "      <td>30/08/2020</td>\n",
       "      <td>Alna</td>\n",
       "      <td>100</td>\n",
       "      <td>151</td>\n",
       "      <td>5</td>\n",
       "    </tr>\n",
       "    <tr>\n",
       "      <th>4372</th>\n",
       "      <td>10/06/2020</td>\n",
       "      <td>Lillestrøm</td>\n",
       "      <td>100</td>\n",
       "      <td>151</td>\n",
       "      <td>2</td>\n",
       "    </tr>\n",
       "    <tr>\n",
       "      <th>4373</th>\n",
       "      <td>23/06/2020</td>\n",
       "      <td>Lillestrøm</td>\n",
       "      <td>100</td>\n",
       "      <td>151</td>\n",
       "      <td>2</td>\n",
       "    </tr>\n",
       "    <tr>\n",
       "      <th>4374</th>\n",
       "      <td>11/06/2020</td>\n",
       "      <td>Sagene</td>\n",
       "      <td>20</td>\n",
       "      <td>106</td>\n",
       "      <td>3</td>\n",
       "    </tr>\n",
       "    <tr>\n",
       "      <th>4375</th>\n",
       "      <td>13/08/2020</td>\n",
       "      <td>Gamle Oslo</td>\n",
       "      <td>100</td>\n",
       "      <td>151</td>\n",
       "      <td>5</td>\n",
       "    </tr>\n",
       "  </tbody>\n",
       "</table>\n",
       "</div>"
      ],
      "text/plain": [
       "            Dato     Kommune Linjenavn  Kjøretøy_Kapasitet  Passasjerer_Ombord\n",
       "4371  30/08/2020        Alna       100                 151                   5\n",
       "4372  10/06/2020  Lillestrøm       100                 151                   2\n",
       "4373  23/06/2020  Lillestrøm       100                 151                   2\n",
       "4374  11/06/2020      Sagene        20                 106                   3\n",
       "4375  13/08/2020  Gamle Oslo       100                 151                   5"
      ]
     },
     "execution_count": 50,
     "metadata": {},
     "output_type": "execute_result"
    }
   ],
   "source": [
    "df_new = df_new.reset_index(drop=True)\n",
    "df_new.tail(5)"
   ]
  },
  {
   "cell_type": "markdown",
   "id": "d0dbfe11",
   "metadata": {},
   "source": [
    "#### Sjekker hvilke \"kommuner\" som er registrert i datasettet"
   ]
  },
  {
   "cell_type": "code",
   "execution_count": 51,
   "id": "3a92e44c",
   "metadata": {},
   "outputs": [
    {
     "data": {
      "text/plain": [
       "Lillestrøm           810\n",
       "Bærum                439\n",
       "Lørenskog            388\n",
       "Ullensaker           261\n",
       "Asker                259\n",
       "Gamle Oslo           219\n",
       "Nittedal             193\n",
       "Rælingen             187\n",
       "Alna                 181\n",
       "Bjerke               154\n",
       "Nannestad            144\n",
       "Stovner              108\n",
       "Eidsvoll             105\n",
       "Enebakk              105\n",
       "Aurskog-Høland        86\n",
       "Vestre Aker           85\n",
       "Nes                   75\n",
       "Grünerløkka           73\n",
       "Gjerdrum              72\n",
       "Grorud                69\n",
       "Ullern                68\n",
       "Nordstrand            65\n",
       "Sentrum               61\n",
       "St.Hanshaugen         34\n",
       "Sagene                28\n",
       "Frogner               24\n",
       "Søndre Nordstrand     21\n",
       "Lier                  15\n",
       "Nordre Follo          12\n",
       "Indre Østfold         10\n",
       "Nordre Aker            8\n",
       "Nordmarka              6\n",
       "Hurdal                 6\n",
       "Drammen                5\n",
       "Name: Kommune, dtype: int64"
      ]
     },
     "execution_count": 51,
     "metadata": {},
     "output_type": "execute_result"
    }
   ],
   "source": [
    "df_new[\"Kommune\"].value_counts()"
   ]
  },
  {
   "cell_type": "markdown",
   "id": "52d5be3b",
   "metadata": {},
   "source": [
    "#### Grupperer bydeler til kommune 'Oslo', så datasettet faktisk skiller på kommuner og ikke kommune+bydel"
   ]
  },
  {
   "cell_type": "code",
   "execution_count": 52,
   "id": "b003ff75",
   "metadata": {},
   "outputs": [],
   "source": [
    "df_new[\"Kommune\"] = df_new[\"Kommune\"].replace(['Gamle Oslo', 'Alna', 'Bjerke', 'Stovner', 'Grünerløkka', 'Grorud', 'Nordstrand', 'Sentrum', 'St.Hanshaugen', 'Sagene', 'Frogner', 'Søndre Nordstrand', 'Vestre Aker', 'Ullern', 'Nordre Aker'], 'Oslo')"
   ]
  },
  {
   "cell_type": "markdown",
   "id": "a40d4351",
   "metadata": {},
   "source": [
    "#### Sjekker våre nye kommuner"
   ]
  },
  {
   "cell_type": "code",
   "execution_count": 53,
   "id": "5341a38a",
   "metadata": {},
   "outputs": [
    {
     "data": {
      "text/plain": [
       "Oslo              1198\n",
       "Lillestrøm         810\n",
       "Bærum              439\n",
       "Lørenskog          388\n",
       "Ullensaker         261\n",
       "Asker              259\n",
       "Nittedal           193\n",
       "Rælingen           187\n",
       "Nannestad          144\n",
       "Eidsvoll           105\n",
       "Enebakk            105\n",
       "Aurskog-Høland      86\n",
       "Nes                 75\n",
       "Gjerdrum            72\n",
       "Lier                15\n",
       "Nordre Follo        12\n",
       "Indre Østfold       10\n",
       "Hurdal               6\n",
       "Nordmarka            6\n",
       "Drammen              5\n",
       "Name: Kommune, dtype: int64"
      ]
     },
     "execution_count": 53,
     "metadata": {},
     "output_type": "execute_result"
    }
   ],
   "source": [
    "df_new[\"Kommune\"].value_counts()"
   ]
  },
  {
   "cell_type": "markdown",
   "id": "afd7f223",
   "metadata": {},
   "source": [
    "#### Sjekker første 20 rader i datasettet"
   ]
  },
  {
   "cell_type": "code",
   "execution_count": 54,
   "id": "681d402a",
   "metadata": {},
   "outputs": [
    {
     "data": {
      "text/html": [
       "<div>\n",
       "<style scoped>\n",
       "    .dataframe tbody tr th:only-of-type {\n",
       "        vertical-align: middle;\n",
       "    }\n",
       "\n",
       "    .dataframe tbody tr th {\n",
       "        vertical-align: top;\n",
       "    }\n",
       "\n",
       "    .dataframe thead th {\n",
       "        text-align: right;\n",
       "    }\n",
       "</style>\n",
       "<table border=\"1\" class=\"dataframe\">\n",
       "  <thead>\n",
       "    <tr style=\"text-align: right;\">\n",
       "      <th></th>\n",
       "      <th>Dato</th>\n",
       "      <th>Kommune</th>\n",
       "      <th>Linjenavn</th>\n",
       "      <th>Kjøretøy_Kapasitet</th>\n",
       "      <th>Passasjerer_Ombord</th>\n",
       "    </tr>\n",
       "  </thead>\n",
       "  <tbody>\n",
       "    <tr>\n",
       "      <th>0</th>\n",
       "      <td>10/08/2020</td>\n",
       "      <td>Bærum</td>\n",
       "      <td>150</td>\n",
       "      <td>112</td>\n",
       "      <td>5</td>\n",
       "    </tr>\n",
       "    <tr>\n",
       "      <th>1</th>\n",
       "      <td>15/08/2020</td>\n",
       "      <td>Bærum</td>\n",
       "      <td>150</td>\n",
       "      <td>112</td>\n",
       "      <td>5</td>\n",
       "    </tr>\n",
       "    <tr>\n",
       "      <th>2</th>\n",
       "      <td>03/08/2020</td>\n",
       "      <td>Bærum</td>\n",
       "      <td>150</td>\n",
       "      <td>112</td>\n",
       "      <td>6</td>\n",
       "    </tr>\n",
       "    <tr>\n",
       "      <th>3</th>\n",
       "      <td>27/07/2020</td>\n",
       "      <td>Bærum</td>\n",
       "      <td>150</td>\n",
       "      <td>112</td>\n",
       "      <td>10</td>\n",
       "    </tr>\n",
       "    <tr>\n",
       "      <th>4</th>\n",
       "      <td>27/08/2020</td>\n",
       "      <td>Bærum</td>\n",
       "      <td>150</td>\n",
       "      <td>112</td>\n",
       "      <td>10</td>\n",
       "    </tr>\n",
       "    <tr>\n",
       "      <th>5</th>\n",
       "      <td>01/08/2020</td>\n",
       "      <td>Oslo</td>\n",
       "      <td>31</td>\n",
       "      <td>151</td>\n",
       "      <td>8</td>\n",
       "    </tr>\n",
       "    <tr>\n",
       "      <th>6</th>\n",
       "      <td>28/07/2020</td>\n",
       "      <td>Bærum</td>\n",
       "      <td>150</td>\n",
       "      <td>112</td>\n",
       "      <td>1</td>\n",
       "    </tr>\n",
       "    <tr>\n",
       "      <th>7</th>\n",
       "      <td>16/08/2020</td>\n",
       "      <td>Bærum</td>\n",
       "      <td>150</td>\n",
       "      <td>112</td>\n",
       "      <td>2</td>\n",
       "    </tr>\n",
       "    <tr>\n",
       "      <th>8</th>\n",
       "      <td>13/08/2020</td>\n",
       "      <td>Bærum</td>\n",
       "      <td>150</td>\n",
       "      <td>112</td>\n",
       "      <td>4</td>\n",
       "    </tr>\n",
       "    <tr>\n",
       "      <th>9</th>\n",
       "      <td>23/06/2020</td>\n",
       "      <td>Indre Østfold</td>\n",
       "      <td>490</td>\n",
       "      <td>106</td>\n",
       "      <td>1</td>\n",
       "    </tr>\n",
       "    <tr>\n",
       "      <th>10</th>\n",
       "      <td>06/08/2020</td>\n",
       "      <td>Bærum</td>\n",
       "      <td>150</td>\n",
       "      <td>112</td>\n",
       "      <td>10</td>\n",
       "    </tr>\n",
       "    <tr>\n",
       "      <th>11</th>\n",
       "      <td>17/07/2020</td>\n",
       "      <td>Bærum</td>\n",
       "      <td>150</td>\n",
       "      <td>112</td>\n",
       "      <td>9</td>\n",
       "    </tr>\n",
       "    <tr>\n",
       "      <th>12</th>\n",
       "      <td>16/06/2020</td>\n",
       "      <td>Ullensaker</td>\n",
       "      <td>3772</td>\n",
       "      <td>71</td>\n",
       "      <td>6</td>\n",
       "    </tr>\n",
       "    <tr>\n",
       "      <th>13</th>\n",
       "      <td>16/07/2020</td>\n",
       "      <td>Eidsvoll</td>\n",
       "      <td>430</td>\n",
       "      <td>106</td>\n",
       "      <td>5</td>\n",
       "    </tr>\n",
       "    <tr>\n",
       "      <th>14</th>\n",
       "      <td>27/06/2020</td>\n",
       "      <td>Eidsvoll</td>\n",
       "      <td>430</td>\n",
       "      <td>106</td>\n",
       "      <td>9</td>\n",
       "    </tr>\n",
       "    <tr>\n",
       "      <th>15</th>\n",
       "      <td>12/06/2020</td>\n",
       "      <td>Eidsvoll</td>\n",
       "      <td>430</td>\n",
       "      <td>106</td>\n",
       "      <td>3</td>\n",
       "    </tr>\n",
       "    <tr>\n",
       "      <th>16</th>\n",
       "      <td>03/06/2020</td>\n",
       "      <td>Eidsvoll</td>\n",
       "      <td>430</td>\n",
       "      <td>106</td>\n",
       "      <td>10</td>\n",
       "    </tr>\n",
       "    <tr>\n",
       "      <th>17</th>\n",
       "      <td>25/08/2020</td>\n",
       "      <td>Eidsvoll</td>\n",
       "      <td>430</td>\n",
       "      <td>106</td>\n",
       "      <td>6</td>\n",
       "    </tr>\n",
       "    <tr>\n",
       "      <th>18</th>\n",
       "      <td>30/06/2020</td>\n",
       "      <td>Eidsvoll</td>\n",
       "      <td>430</td>\n",
       "      <td>106</td>\n",
       "      <td>5</td>\n",
       "    </tr>\n",
       "    <tr>\n",
       "      <th>19</th>\n",
       "      <td>11/08/2020</td>\n",
       "      <td>Lørenskog</td>\n",
       "      <td>110E</td>\n",
       "      <td>115</td>\n",
       "      <td>1</td>\n",
       "    </tr>\n",
       "  </tbody>\n",
       "</table>\n",
       "</div>"
      ],
      "text/plain": [
       "          Dato        Kommune Linjenavn  Kjøretøy_Kapasitet  \\\n",
       "0   10/08/2020          Bærum       150                 112   \n",
       "1   15/08/2020          Bærum       150                 112   \n",
       "2   03/08/2020          Bærum       150                 112   \n",
       "3   27/07/2020          Bærum       150                 112   \n",
       "4   27/08/2020          Bærum       150                 112   \n",
       "5   01/08/2020           Oslo        31                 151   \n",
       "6   28/07/2020          Bærum       150                 112   \n",
       "7   16/08/2020          Bærum       150                 112   \n",
       "8   13/08/2020          Bærum       150                 112   \n",
       "9   23/06/2020  Indre Østfold       490                 106   \n",
       "10  06/08/2020          Bærum       150                 112   \n",
       "11  17/07/2020          Bærum       150                 112   \n",
       "12  16/06/2020     Ullensaker      3772                  71   \n",
       "13  16/07/2020       Eidsvoll       430                 106   \n",
       "14  27/06/2020       Eidsvoll       430                 106   \n",
       "15  12/06/2020       Eidsvoll       430                 106   \n",
       "16  03/06/2020       Eidsvoll       430                 106   \n",
       "17  25/08/2020       Eidsvoll       430                 106   \n",
       "18  30/06/2020       Eidsvoll       430                 106   \n",
       "19  11/08/2020      Lørenskog      110E                 115   \n",
       "\n",
       "    Passasjerer_Ombord  \n",
       "0                    5  \n",
       "1                    5  \n",
       "2                    6  \n",
       "3                   10  \n",
       "4                   10  \n",
       "5                    8  \n",
       "6                    1  \n",
       "7                    2  \n",
       "8                    4  \n",
       "9                    1  \n",
       "10                  10  \n",
       "11                   9  \n",
       "12                   6  \n",
       "13                   5  \n",
       "14                   9  \n",
       "15                   3  \n",
       "16                  10  \n",
       "17                   6  \n",
       "18                   5  \n",
       "19                   1  "
      ]
     },
     "execution_count": 54,
     "metadata": {},
     "output_type": "execute_result"
    }
   ],
   "source": [
    "df_new.head(20)"
   ]
  },
  {
   "cell_type": "markdown",
   "id": "268dfab7",
   "metadata": {},
   "source": [
    "## Oppgave 1:\n",
    "### Regne ut hvilken prosentandel av buss som er fyllt opp på hver avgang"
   ]
  },
  {
   "cell_type": "code",
   "execution_count": 55,
   "id": "9d43fcda",
   "metadata": {},
   "outputs": [],
   "source": [
    "#Viser kun 2 desimaltall\n",
    "df_new[\"Kapasitetsprosent\"] = round((df_new[\"Passasjerer_Ombord\"]/df_new[\"Kjøretøy_Kapasitet\"])*100,2)"
   ]
  },
  {
   "cell_type": "markdown",
   "id": "13006d71",
   "metadata": {},
   "source": [
    "#### Sjekker ut vår nye kolonne \"Kapasitetsprosent\""
   ]
  },
  {
   "cell_type": "code",
   "execution_count": 56,
   "id": "502ccb49",
   "metadata": {},
   "outputs": [
    {
     "data": {
      "text/html": [
       "<div>\n",
       "<style scoped>\n",
       "    .dataframe tbody tr th:only-of-type {\n",
       "        vertical-align: middle;\n",
       "    }\n",
       "\n",
       "    .dataframe tbody tr th {\n",
       "        vertical-align: top;\n",
       "    }\n",
       "\n",
       "    .dataframe thead th {\n",
       "        text-align: right;\n",
       "    }\n",
       "</style>\n",
       "<table border=\"1\" class=\"dataframe\">\n",
       "  <thead>\n",
       "    <tr style=\"text-align: right;\">\n",
       "      <th></th>\n",
       "      <th>Dato</th>\n",
       "      <th>Kommune</th>\n",
       "      <th>Linjenavn</th>\n",
       "      <th>Kjøretøy_Kapasitet</th>\n",
       "      <th>Passasjerer_Ombord</th>\n",
       "      <th>Kapasitetsprosent</th>\n",
       "    </tr>\n",
       "  </thead>\n",
       "  <tbody>\n",
       "    <tr>\n",
       "      <th>0</th>\n",
       "      <td>10/08/2020</td>\n",
       "      <td>Bærum</td>\n",
       "      <td>150</td>\n",
       "      <td>112</td>\n",
       "      <td>5</td>\n",
       "      <td>4.46</td>\n",
       "    </tr>\n",
       "    <tr>\n",
       "      <th>1</th>\n",
       "      <td>15/08/2020</td>\n",
       "      <td>Bærum</td>\n",
       "      <td>150</td>\n",
       "      <td>112</td>\n",
       "      <td>5</td>\n",
       "      <td>4.46</td>\n",
       "    </tr>\n",
       "    <tr>\n",
       "      <th>2</th>\n",
       "      <td>03/08/2020</td>\n",
       "      <td>Bærum</td>\n",
       "      <td>150</td>\n",
       "      <td>112</td>\n",
       "      <td>6</td>\n",
       "      <td>5.36</td>\n",
       "    </tr>\n",
       "    <tr>\n",
       "      <th>3</th>\n",
       "      <td>27/07/2020</td>\n",
       "      <td>Bærum</td>\n",
       "      <td>150</td>\n",
       "      <td>112</td>\n",
       "      <td>10</td>\n",
       "      <td>8.93</td>\n",
       "    </tr>\n",
       "    <tr>\n",
       "      <th>4</th>\n",
       "      <td>27/08/2020</td>\n",
       "      <td>Bærum</td>\n",
       "      <td>150</td>\n",
       "      <td>112</td>\n",
       "      <td>10</td>\n",
       "      <td>8.93</td>\n",
       "    </tr>\n",
       "    <tr>\n",
       "      <th>5</th>\n",
       "      <td>01/08/2020</td>\n",
       "      <td>Oslo</td>\n",
       "      <td>31</td>\n",
       "      <td>151</td>\n",
       "      <td>8</td>\n",
       "      <td>5.30</td>\n",
       "    </tr>\n",
       "    <tr>\n",
       "      <th>6</th>\n",
       "      <td>28/07/2020</td>\n",
       "      <td>Bærum</td>\n",
       "      <td>150</td>\n",
       "      <td>112</td>\n",
       "      <td>1</td>\n",
       "      <td>0.89</td>\n",
       "    </tr>\n",
       "    <tr>\n",
       "      <th>7</th>\n",
       "      <td>16/08/2020</td>\n",
       "      <td>Bærum</td>\n",
       "      <td>150</td>\n",
       "      <td>112</td>\n",
       "      <td>2</td>\n",
       "      <td>1.79</td>\n",
       "    </tr>\n",
       "    <tr>\n",
       "      <th>8</th>\n",
       "      <td>13/08/2020</td>\n",
       "      <td>Bærum</td>\n",
       "      <td>150</td>\n",
       "      <td>112</td>\n",
       "      <td>4</td>\n",
       "      <td>3.57</td>\n",
       "    </tr>\n",
       "    <tr>\n",
       "      <th>9</th>\n",
       "      <td>23/06/2020</td>\n",
       "      <td>Indre Østfold</td>\n",
       "      <td>490</td>\n",
       "      <td>106</td>\n",
       "      <td>1</td>\n",
       "      <td>0.94</td>\n",
       "    </tr>\n",
       "    <tr>\n",
       "      <th>10</th>\n",
       "      <td>06/08/2020</td>\n",
       "      <td>Bærum</td>\n",
       "      <td>150</td>\n",
       "      <td>112</td>\n",
       "      <td>10</td>\n",
       "      <td>8.93</td>\n",
       "    </tr>\n",
       "    <tr>\n",
       "      <th>11</th>\n",
       "      <td>17/07/2020</td>\n",
       "      <td>Bærum</td>\n",
       "      <td>150</td>\n",
       "      <td>112</td>\n",
       "      <td>9</td>\n",
       "      <td>8.04</td>\n",
       "    </tr>\n",
       "    <tr>\n",
       "      <th>12</th>\n",
       "      <td>16/06/2020</td>\n",
       "      <td>Ullensaker</td>\n",
       "      <td>3772</td>\n",
       "      <td>71</td>\n",
       "      <td>6</td>\n",
       "      <td>8.45</td>\n",
       "    </tr>\n",
       "    <tr>\n",
       "      <th>13</th>\n",
       "      <td>16/07/2020</td>\n",
       "      <td>Eidsvoll</td>\n",
       "      <td>430</td>\n",
       "      <td>106</td>\n",
       "      <td>5</td>\n",
       "      <td>4.72</td>\n",
       "    </tr>\n",
       "    <tr>\n",
       "      <th>14</th>\n",
       "      <td>27/06/2020</td>\n",
       "      <td>Eidsvoll</td>\n",
       "      <td>430</td>\n",
       "      <td>106</td>\n",
       "      <td>9</td>\n",
       "      <td>8.49</td>\n",
       "    </tr>\n",
       "    <tr>\n",
       "      <th>15</th>\n",
       "      <td>12/06/2020</td>\n",
       "      <td>Eidsvoll</td>\n",
       "      <td>430</td>\n",
       "      <td>106</td>\n",
       "      <td>3</td>\n",
       "      <td>2.83</td>\n",
       "    </tr>\n",
       "    <tr>\n",
       "      <th>16</th>\n",
       "      <td>03/06/2020</td>\n",
       "      <td>Eidsvoll</td>\n",
       "      <td>430</td>\n",
       "      <td>106</td>\n",
       "      <td>10</td>\n",
       "      <td>9.43</td>\n",
       "    </tr>\n",
       "    <tr>\n",
       "      <th>17</th>\n",
       "      <td>25/08/2020</td>\n",
       "      <td>Eidsvoll</td>\n",
       "      <td>430</td>\n",
       "      <td>106</td>\n",
       "      <td>6</td>\n",
       "      <td>5.66</td>\n",
       "    </tr>\n",
       "    <tr>\n",
       "      <th>18</th>\n",
       "      <td>30/06/2020</td>\n",
       "      <td>Eidsvoll</td>\n",
       "      <td>430</td>\n",
       "      <td>106</td>\n",
       "      <td>5</td>\n",
       "      <td>4.72</td>\n",
       "    </tr>\n",
       "    <tr>\n",
       "      <th>19</th>\n",
       "      <td>11/08/2020</td>\n",
       "      <td>Lørenskog</td>\n",
       "      <td>110E</td>\n",
       "      <td>115</td>\n",
       "      <td>1</td>\n",
       "      <td>0.87</td>\n",
       "    </tr>\n",
       "  </tbody>\n",
       "</table>\n",
       "</div>"
      ],
      "text/plain": [
       "          Dato        Kommune Linjenavn  Kjøretøy_Kapasitet  \\\n",
       "0   10/08/2020          Bærum       150                 112   \n",
       "1   15/08/2020          Bærum       150                 112   \n",
       "2   03/08/2020          Bærum       150                 112   \n",
       "3   27/07/2020          Bærum       150                 112   \n",
       "4   27/08/2020          Bærum       150                 112   \n",
       "5   01/08/2020           Oslo        31                 151   \n",
       "6   28/07/2020          Bærum       150                 112   \n",
       "7   16/08/2020          Bærum       150                 112   \n",
       "8   13/08/2020          Bærum       150                 112   \n",
       "9   23/06/2020  Indre Østfold       490                 106   \n",
       "10  06/08/2020          Bærum       150                 112   \n",
       "11  17/07/2020          Bærum       150                 112   \n",
       "12  16/06/2020     Ullensaker      3772                  71   \n",
       "13  16/07/2020       Eidsvoll       430                 106   \n",
       "14  27/06/2020       Eidsvoll       430                 106   \n",
       "15  12/06/2020       Eidsvoll       430                 106   \n",
       "16  03/06/2020       Eidsvoll       430                 106   \n",
       "17  25/08/2020       Eidsvoll       430                 106   \n",
       "18  30/06/2020       Eidsvoll       430                 106   \n",
       "19  11/08/2020      Lørenskog      110E                 115   \n",
       "\n",
       "    Passasjerer_Ombord  Kapasitetsprosent  \n",
       "0                    5               4.46  \n",
       "1                    5               4.46  \n",
       "2                    6               5.36  \n",
       "3                   10               8.93  \n",
       "4                   10               8.93  \n",
       "5                    8               5.30  \n",
       "6                    1               0.89  \n",
       "7                    2               1.79  \n",
       "8                    4               3.57  \n",
       "9                    1               0.94  \n",
       "10                  10               8.93  \n",
       "11                   9               8.04  \n",
       "12                   6               8.45  \n",
       "13                   5               4.72  \n",
       "14                   9               8.49  \n",
       "15                   3               2.83  \n",
       "16                  10               9.43  \n",
       "17                   6               5.66  \n",
       "18                   5               4.72  \n",
       "19                   1               0.87  "
      ]
     },
     "execution_count": 56,
     "metadata": {},
     "output_type": "execute_result"
    }
   ],
   "source": [
    "df_new.head(20)"
   ]
  },
  {
   "cell_type": "markdown",
   "id": "06ec6cb9",
   "metadata": {},
   "source": [
    "#### Finner gjennomsnittet av \"Kapasitetsprosent\" for hver buss"
   ]
  },
  {
   "cell_type": "code",
   "execution_count": 57,
   "id": "a5e96888",
   "metadata": {},
   "outputs": [],
   "source": [
    "MeanBus = []\n",
    "Buss = []\n",
    "\n",
    "for Bussen in df_new.Linjenavn.unique():\n",
    "    Mean = np.mean(df_new[df_new[\"Linjenavn\"] == Bussen][\"Kapasitetsprosent\"])\n",
    "\n",
    "    MeanBus.append(Mean)\n",
    "    Buss.append(Bussen)"
   ]
  },
  {
   "cell_type": "markdown",
   "id": "c4811d15",
   "metadata": {},
   "source": [
    "#### Skriver ut resultatet ifra forrige utregning i et barplot, endrer farge, størrelse og rotasjon på tekst for å gjøre det mer leselig"
   ]
  },
  {
   "cell_type": "code",
   "execution_count": 58,
   "id": "8eaa021b",
   "metadata": {},
   "outputs": [
    {
     "data": {
      "image/png": "[encoded data removed]",
      "text/plain": [
       "<Figure size 1080x2160 with 1 Axes>"
      ]
     },
     "metadata": {
      "needs_background": "light"
     },
     "output_type": "display_data"
    }
   ],
   "source": [
    "plt.figure(figsize=(15,30))\n",
    "plt.barh(Buss, MeanBus, color=\"lightsteelblue\")\n",
    "plt.xticks(rotation=90)\n",
    "plt.title(\"Gjennomsnittsprosent kapasitet brukt pr buss\")\n",
    "plt.xlabel(\"Gjennomsnittlig kapasitetsprosent\")\n",
    "plt.ylabel(\"Linjenavn\")\n",
    "plt.show()"
   ]
  },
  {
   "cell_type": "markdown",
   "id": "0e87ed88",
   "metadata": {},
   "source": [
    "## Oppgave 2\n",
    "### Regne ut gjennomsnittlig kapasitetsprosent brukt i hver kommune"
   ]
  },
  {
   "cell_type": "code",
   "execution_count": 59,
   "id": "87bfcfc2",
   "metadata": {},
   "outputs": [
    {
     "data": {
      "text/plain": [
       "Kommune\n",
       "Asker              7.016448\n",
       "Aurskog-Høland     6.421977\n",
       "Bærum              5.082665\n",
       "Drammen            7.858000\n",
       "Eidsvoll           6.996190\n",
       "Enebakk            5.130952\n",
       "Gjerdrum           5.130278\n",
       "Hurdal             8.333333\n",
       "Indre Østfold      3.395000\n",
       "Lier              10.594000\n",
       "Lillestrøm         5.857235\n",
       "Lørenskog          6.485335\n",
       "Nannestad          5.002847\n",
       "Nes                5.512133\n",
       "Nittedal           5.218342\n",
       "Nordmarka          5.400000\n",
       "Nordre Follo       6.875000\n",
       "Oslo               8.543172\n",
       "Rælingen           7.186257\n",
       "Ullensaker         6.352031\n",
       "Name: Kapasitetsprosent, dtype: float64"
      ]
     },
     "execution_count": 59,
     "metadata": {},
     "output_type": "execute_result"
    }
   ],
   "source": [
    "df_new.groupby('Kommune').Kapasitetsprosent.mean()"
   ]
  },
  {
   "cell_type": "markdown",
   "id": "67bc6b15",
   "metadata": {},
   "source": [
    "#### Lager en graf for gjennomsnittlig kapasitetsprosent brukt i hver kommune"
   ]
  },
  {
   "cell_type": "code",
   "execution_count": 60,
   "id": "63d1df58",
   "metadata": {},
   "outputs": [
    {
     "data": {
      "text/plain": [
       "Text(0, 0.5, 'Kapasitetsprosent')"
      ]
     },
     "execution_count": 60,
     "metadata": {},
     "output_type": "execute_result"
    },
    {
     "data": {
      "image/png": "[encoded data removed]",
      "text/plain": [
       "<Figure size 1080x720 with 1 Axes>"
      ]
     },
     "metadata": {
      "needs_background": "light"
     },
     "output_type": "display_data"
    }
   ],
   "source": [
    "df_new.groupby('Kommune').Kapasitetsprosent.mean().plot.bar(figsize=(15, 10), color=\"slategray\", width=0.8).set_ylabel(\"Kapasitetsprosent\")"
   ]
  },
  {
   "cell_type": "markdown",
   "id": "7e618909",
   "metadata": {},
   "source": [
    "## Oppgave 3\n",
    "### Finne ut hvilken måned som har flest passasjerer"
   ]
  },
  {
   "cell_type": "markdown",
   "id": "ca339738",
   "metadata": {},
   "source": [
    "#### Gjør om kolonnen Dato til datetime objekter"
   ]
  },
  {
   "cell_type": "code",
   "execution_count": 61,
   "id": "bed9d87a",
   "metadata": {},
   "outputs": [],
   "source": [
    "df_new['Dato'] = pd.to_datetime(df_new['Dato'])"
   ]
  },
  {
   "cell_type": "markdown",
   "id": "c488accc",
   "metadata": {},
   "source": [
    "#### Lager et diagram med antall passasjerer summert per måned. Sorterer månedene i rekkefølge"
   ]
  },
  {
   "cell_type": "code",
   "execution_count": 62,
   "id": "e2b03106",
   "metadata": {},
   "outputs": [
    {
     "data": {
      "text/plain": [
       "<AxesSubplot:xlabel='Dato'>"
      ]
     },
     "execution_count": 62,
     "metadata": {},
     "output_type": "execute_result"
    },
    {
     "data": {
      "image/png": "[encoded data removed]",
      "text/plain": [
       "<Figure size 1080x720 with 1 Axes>"
      ]
     },
     "metadata": {
      "needs_background": "light"
     },
     "output_type": "display_data"
    }
   ],
   "source": [
    "months = ['January', 'February', 'March', 'April',\n",
    "          'May', 'June', 'July', 'August',\n",
    "          'September', 'October', 'November', 'December']\n",
    "\n",
    "df_new.groupby(df_new['Dato'].dt.strftime('%B'))['Passasjerer_Ombord'].sum().reindex(months).plot.bar(figsize=(15,10), color=\"cadetblue\", width=0.9)"
   ]
  },
  {
   "cell_type": "markdown",
   "id": "60dfc086",
   "metadata": {},
   "source": [
    "## Oppgave 4\n",
    "### Antall avganger per kommune"
   ]
  },
  {
   "cell_type": "markdown",
   "id": "02887ba4",
   "metadata": {},
   "source": [
    "#### Visualisering av antall avganger per kommune, sortert etter flest avganger."
   ]
  },
  {
   "cell_type": "code",
   "execution_count": 63,
   "id": "d56b7e59",
   "metadata": {},
   "outputs": [
    {
     "data": {
      "text/plain": [
       "Text(0, 0.5, 'Antall avganger')"
      ]
     },
     "execution_count": 63,
     "metadata": {},
     "output_type": "execute_result"
    },
    {
     "data": {
      "image/png": "[encoded data removed]",
      "text/plain": [
       "<Figure size 1080x720 with 1 Axes>"
      ]
     },
     "metadata": {
      "needs_background": "light"
     },
     "output_type": "display_data"
    }
   ],
   "source": [
    "#Hentet fra 'Useful Notebooks': https://github.com/umaimehm/Intro_to_AI_2021/blob/main/Useful%20notebooks/Data-visualization/Matplotlib.ipynb\n",
    "# create a figure and axis \n",
    "fig, ax = plt.subplots(figsize=(15,10)) \n",
    "# count the occurrence of each class \n",
    "data = df_new['Kommune'].value_counts() \n",
    "# get x and y data \n",
    "kommune = data.index \n",
    "antAvganger = data.values\n",
    "# create bar chart \n",
    "ax.bar(kommune, antAvganger, color=\"gray\", width=0.9) \n",
    "# from StackOverflow: https://stackoverflow.com/questions/10998621/rotate-axis-text-in-python-matplotlib\n",
    "# rotate x-axis vertically\n",
    "plt.xticks(rotation=90)\n",
    "# set title and labels \n",
    "ax.set_title('Antall avganger per kommune') \n",
    "ax.set_xlabel('Kommune')\n",
    "ax.set_ylabel('Antall avganger')"
   ]
  },
  {
   "cell_type": "code",
   "execution_count": null,
   "id": "4fa2d67b",
   "metadata": {},
   "outputs": [],
   "source": []
  }
 ],
 "metadata": {
  "kernelspec": {
   "display_name": "Python 3 (ipykernel)",
   "language": "python",
   "name": "python3"
  },
  "language_info": {
   "codemirror_mode": {
    "name": "ipython",
    "version": 3
   },
   "file_extension": ".py",
   "mimetype": "text/x-python",
   "name": "python",
   "nbconvert_exporter": "python",
   "pygments_lexer": "ipython3",
   "version": "3.8.11"
  }
 },
 "nbformat": 4,
 "nbformat_minor": 5
}
